{
 "cells": [
  {
   "cell_type": "markdown",
   "id": "3b76178b",
   "metadata": {},
   "source": [
    "# Notebook: Iterators"
   ]
  },
  {
   "cell_type": "code",
   "execution_count": 9,
   "id": "d6fa004e",
   "metadata": {},
   "outputs": [],
   "source": [
    "from ceruleo.dataset.catalog.PHMDataset2018 import PHMDataset2018, FailureType"
   ]
  },
  {
   "cell_type": "markdown",
   "id": "b6b0145b",
   "metadata": {},
   "source": [
    "## Load dataset"
   ]
  },
  {
   "cell_type": "code",
   "execution_count": 10,
   "id": "b292f02e",
   "metadata": {},
   "outputs": [],
   "source": [
    "dataset = PHMDataset2018(\n",
    "    tools=['01M01', '04M01']\n",
    ")"
   ]
  },
  {
   "cell_type": "markdown",
   "id": "a398fb19",
   "metadata": {},
   "source": [
    "### Create a transformer for a dataset"
   ]
  },
  {
   "cell_type": "code",
   "execution_count": 11,
   "id": "cfca18d7",
   "metadata": {},
   "outputs": [],
   "source": [
    "from ceruleo.iterators.iterators import RelativeToEnd\n",
    "from ceruleo.transformation.features.cast import ToDateTime\n",
    "from ceruleo.transformation.features.resamplers import IndexMeanResampler\n",
    "from ceruleo.transformation.features.selection import (\n",
    "    ByNameFeatureSelector,\n",
    ")\n",
    "from ceruleo.transformation.features.slicing import SliceRows\n",
    "from ceruleo.transformation.features.transformation import Clip\n",
    "from ceruleo.transformation.functional.pipeline.pipeline import make_pipeline\n",
    "from ceruleo.transformation.functional.transformers import Transformer"
   ]
  },
  {
   "cell_type": "code",
   "execution_count": 12,
   "id": "84266b73",
   "metadata": {},
   "outputs": [],
   "source": [
    "\n",
    "\n",
    "\n",
    "FEATURES = [\n",
    "   'IONGAUGEPRESSURE', 'ETCHBEAMVOLTAGE', 'ETCHBEAMCURRENT',\n",
    "   'ETCHSUPPRESSORVOLTAGE', 'ETCHSUPPRESSORCURRENT', 'FLOWCOOLFLOWRATE',\n",
    "   'FLOWCOOLPRESSURE', 'ETCHGASCHANNEL1READBACK', 'ETCHPBNGASREADBACK',\n",
    "]\n",
    "transformer = Transformer(\n",
    "    pipelineX=make_pipeline(\n",
    "        ToDateTime(index=True),\n",
    "        ByNameFeatureSelector(features=FEATURES), \n",
    "        Clip(lower=-6, upper=6),\n",
    "        IndexMeanResampler(rule='120s'),\n",
    "        SliceRows(initial=RelativeToEnd(1500))\n",
    "    ), \n",
    "    pipelineY=make_pipeline(\n",
    "        ToDateTime(index=True),\n",
    "        ByNameFeatureSelector(features=['RUL']),  \n",
    "        IndexMeanResampler(rule='120s'),\n",
    "        SliceRows(initial=RelativeToEnd(1500))\n",
    "    )\n",
    ")\n",
    "\n",
    "transformed_dataset = transformer.fit_map(dataset)"
   ]
  },
  {
   "cell_type": "markdown",
   "id": "f8d0fde6",
   "metadata": {},
   "source": [
    "## Iterator"
   ]
  },
  {
   "cell_type": "code",
   "execution_count": 13,
   "id": "7cdd3814",
   "metadata": {},
   "outputs": [],
   "source": [
    "from ceruleo.iterators.iterators import WindowedDatasetIterator, IterationType"
   ]
  },
  {
   "cell_type": "markdown",
   "id": "18dcb68b",
   "metadata": {},
   "source": [
    "### Forecast iterator\n",
    "\n",
    "The forecast iterator produces as target the values of the Y transformers that start where the X data ends."
   ]
  },
  {
   "cell_type": "code",
   "execution_count": 14,
   "id": "39b1dc4e",
   "metadata": {},
   "outputs": [],
   "source": [
    "iterator = WindowedDatasetIterator(\n",
    "    transformed_dataset,\n",
    "    window_size=150,\n",
    "    step=15,\n",
    "    horizon=5,\n",
    "    iteration_type=IterationType.FORECAST # The default value\n",
    ")"
   ]
  },
  {
   "cell_type": "code",
   "execution_count": 15,
   "id": "6374da49",
   "metadata": {},
   "outputs": [
    {
     "data": {
      "text/plain": [
       "((150, 9), (5, 1))"
      ]
     },
     "execution_count": 15,
     "metadata": {},
     "output_type": "execute_result"
    }
   ],
   "source": [
    "X, y, sw = next(iterator)\n",
    "(X.shape, y.shape)"
   ]
  },
  {
   "cell_type": "markdown",
   "id": "e9cc855b",
   "metadata": {},
   "source": [
    "It is possible to obtain all the data following the order of the shuffler in an numpy matrix. By default all the data is flattented"
   ]
  },
  {
   "cell_type": "code",
   "execution_count": 16,
   "id": "6cb1c760",
   "metadata": {},
   "outputs": [
    {
     "data": {
      "text/plain": [
       "((1678, 1350), (1678, 5), (1678,))"
      ]
     },
     "execution_count": 16,
     "metadata": {},
     "output_type": "execute_result"
    }
   ],
   "source": [
    "X, y, sw = iterator.get_data()\n",
    "(X.shape, y.shape, sw.shape)"
   ]
  },
  {
   "cell_type": "markdown",
   "id": "98e2fdbf",
   "metadata": {},
   "source": [
    "If flatten is False, we can see the shape of the data. X has 1679 samples, of a window size of 150 and 9 features."
   ]
  },
  {
   "cell_type": "code",
   "execution_count": 17,
   "id": "36ac0562",
   "metadata": {},
   "outputs": [
    {
     "data": {
      "text/plain": [
       "((1678, 150, 9), (1678, 5), (1678,))"
      ]
     },
     "execution_count": 17,
     "metadata": {},
     "output_type": "execute_result"
    }
   ],
   "source": [
    "X, y, sw = iterator.get_data(flatten=False)\n",
    "(X.shape, y.shape, sw.shape)"
   ]
  },
  {
   "cell_type": "markdown",
   "id": "b4fb5a95",
   "metadata": {},
   "source": [
    "### Seq to Seq Iterator\n",
    "\n",
    "The seq to seq iterator will return as a target a window of a same size as the input aligned with it"
   ]
  },
  {
   "cell_type": "code",
   "execution_count": 18,
   "id": "618e8547",
   "metadata": {},
   "outputs": [],
   "source": [
    "iterator = WindowedDatasetIterator(\n",
    "    transformed_dataset,\n",
    "    window_size=150,\n",
    "    step=15,\n",
    "    iteration_type=IterationType.SEQ_TO_SEQ \n",
    ")"
   ]
  },
  {
   "cell_type": "code",
   "execution_count": 19,
   "id": "7ffee9b5",
   "metadata": {},
   "outputs": [
    {
     "data": {
      "text/plain": [
       "((150, 9), (150, 1))"
      ]
     },
     "execution_count": 19,
     "metadata": {},
     "output_type": "execute_result"
    }
   ],
   "source": [
    "X, y, sw = next(iterator)\n",
    "(X.shape, y.shape)"
   ]
  },
  {
   "cell_type": "markdown",
   "id": "36202c88",
   "metadata": {},
   "source": [
    "## Batcher"
   ]
  },
  {
   "cell_type": "code",
   "execution_count": 20,
   "id": "6c601250",
   "metadata": {},
   "outputs": [],
   "source": [
    "from ceruleo.iterators.batcher import Batcher"
   ]
  },
  {
   "cell_type": "code",
   "execution_count": 21,
   "id": "3e1fd8b1",
   "metadata": {},
   "outputs": [
    {
     "data": {
      "text/plain": [
       "((64, 150, 9), (64, 5, 1), (64, 1))"
      ]
     },
     "execution_count": 21,
     "metadata": {},
     "output_type": "execute_result"
    }
   ],
   "source": [
    "batcher = Batcher.new(\n",
    "    transformed_dataset,\n",
    "    batch_size=64,\n",
    "    window=150,\n",
    "    step=15,\n",
    "    horizon=5\n",
    ")\n",
    "X, y, sw = next(batcher)\n",
    "(X.shape, y.shape, sw.shape)"
   ]
  },
  {
   "cell_type": "code",
   "execution_count": null,
   "id": "bd91631a",
   "metadata": {},
   "outputs": [],
   "source": []
  }
 ],
 "metadata": {
  "kernelspec": {
   "display_name": "Python 3 (ipykernel)",
   "language": "python",
   "name": "python3"
  },
  "language_info": {
   "codemirror_mode": {
    "name": "ipython",
    "version": 3
   },
   "file_extension": ".py",
   "mimetype": "text/x-python",
   "name": "python",
   "nbconvert_exporter": "python",
   "pygments_lexer": "ipython3",
   "version": "3.11.7"
  }
 },
 "nbformat": 4,
 "nbformat_minor": 5
}
