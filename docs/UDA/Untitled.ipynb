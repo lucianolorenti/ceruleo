{
 "cells": [
  {
   "cell_type": "code",
   "execution_count": 1,
   "id": "ced5d491",
   "metadata": {},
   "outputs": [],
   "source": [
    "%load_ext autoreload\n",
    "%autoreload 2"
   ]
  },
  {
   "cell_type": "code",
   "execution_count": 2,
   "id": "d0cd418d",
   "metadata": {},
   "outputs": [],
   "source": [
    "import matplotlib.pyplot as plt\n",
    "import seaborn as sbn\n",
    "\n",
    "sbn.set()"
   ]
  },
  {
   "cell_type": "code",
   "execution_count": 24,
   "id": "4a041c3a",
   "metadata": {},
   "outputs": [],
   "source": [
    "from ceruleo.dataset.catalog.CMAPSS import CMAPSSDataset\n",
    "from ceruleo.transformation.functional.transformers import Transformer\n",
    "from ceruleo.transformation.features.selection import ByNameFeatureSelector\n",
    "from ceruleo.transformation.functional.pipeline.pipeline import make_pipeline\n",
    "from ceruleo.transformation.features.scalers import MinMaxScaler\n",
    "from ceruleo.dataset.catalog.CMAPSS import sensor_indices\n",
    "from ceruleo.iterators.utils import true_values\n",
    "\n",
    "from ceruleo.iterators.utils import true_values\n",
    "from ceruleo.iterators.shufflers import AllShuffled\n",
    "from ceruleo.iterators.iterators import WindowedDatasetIterator\n",
    "from ceruleo.models.keras.dataset import tf_regression_dataset\n",
    "import tensorflow as tf\n",
    "from tensorflow.keras.callbacks import EarlyStopping\n",
    "from ceruleo.models.keras.dataset import tf_regression_dataset\n"
   ]
  },
  {
   "cell_type": "code",
   "execution_count": 25,
   "id": "e96a6bff",
   "metadata": {},
   "outputs": [],
   "source": [
    "from sklearn.model_selection import train_test_split\n",
    "\n",
    "\n",
    "\n",
    "\n",
    "\n",
    "dataset = CMAPSSDataset(train=True, models='FD001')\n",
    "FEATURES = [dataset[0].columns[i] for i in sensor_indices]\n",
    "train_dataset, test_dataset = train_test_split(dataset, train_size=0.8)\n",
    "\n",
    "\n",
    "transformer = Transformer(\n",
    "    pipelineX=make_pipeline(\n",
    "        ByNameFeatureSelector(features=FEATURES), \n",
    "        MinMaxScaler(range=(-1, 1))\n",
    "\n",
    "    ), \n",
    "    pipelineY=make_pipeline(\n",
    "        ByNameFeatureSelector(features=['RUL']),  \n",
    "    )\n",
    ")\n",
    "\n",
    "transformer.fit(train_dataset)\n",
    "\n",
    "transformed_train_dataset_FD001 = train_dataset.map(transformer)\n",
    "transformed_test_dataset_FD001 = test_dataset.map(transformer)\n"
   ]
  },
  {
   "cell_type": "code",
   "execution_count": 26,
   "id": "46e457b2",
   "metadata": {},
   "outputs": [],
   "source": [
    "train_iterator_FD001 = WindowedDatasetIterator(\n",
    "    transformed_train_dataset_FD001,\n",
    "    window_size=32,\n",
    "    step=1,\n",
    "    horizon=1,\n",
    "    shuffler=AllShuffled())\n",
    "\n",
    "test_iterator_FD001 = WindowedDatasetIterator(\n",
    "    transformed_test_dataset_FD001,\n",
    "    window_size=32,\n",
    "    step=1,\n",
    "    horizon=1)\n",
    "\n"
   ]
  },
  {
   "cell_type": "code",
   "execution_count": 27,
   "id": "6e1fdbe6",
   "metadata": {},
   "outputs": [],
   "source": [
    "from sklearn.model_selection import train_test_split\n",
    "\n",
    "dataset = CMAPSSDataset(train=True, models='FD002')\n",
    "train_dataset, test_dataset = train_test_split(dataset, train_size=0.8)\n",
    "\n",
    "\n",
    "transformer = Transformer(\n",
    "    pipelineX=make_pipeline(\n",
    "        ByNameFeatureSelector(features=FEATURES), \n",
    "        MinMaxScaler(range=(-1, 1))\n",
    "\n",
    "    ), \n",
    "    pipelineY=make_pipeline(\n",
    "        ByNameFeatureSelector(features=['RUL']),  \n",
    "    )\n",
    ")\n",
    "\n",
    "\n",
    "transformer.fit(train_dataset)\n",
    "transformed_train_dataset_FD002 = train_dataset.map(transformer)\n",
    "transformed_test_dataset_FD002 = test_dataset.map(transformer)\n",
    "\n",
    "train_iterator_FD002 = WindowedDatasetIterator(\n",
    "    transformed_train_dataset_FD002,\n",
    "    window_size=32,\n",
    "    step=1,\n",
    "    horizon=1,\n",
    "    shuffler=AllShuffled())\n",
    "\n",
    "test_iterator_FD002 = WindowedDatasetIterator(\n",
    "    transformed_test_dataset_FD002,\n",
    "    window_size=32,\n",
    "    step=1,\n",
    "    horizon=1)\n",
    "\n",
    "\n"
   ]
  },
  {
   "cell_type": "code",
   "execution_count": null,
   "id": "5f641e20",
   "metadata": {},
   "outputs": [],
   "source": []
  },
  {
   "cell_type": "code",
   "execution_count": 19,
   "id": "9c66b3b8",
   "metadata": {},
   "outputs": [],
   "source": [
    "from adapt.feature_based import DANN"
   ]
  },
  {
   "cell_type": "code",
   "execution_count": 20,
   "id": "64b221fd",
   "metadata": {},
   "outputs": [],
   "source": []
  },
  {
   "cell_type": "code",
   "execution_count": null,
   "id": "49a38f0d",
   "metadata": {},
   "outputs": [],
   "source": []
  },
  {
   "cell_type": "code",
   "execution_count": 31,
   "id": "908bf433",
   "metadata": {},
   "outputs": [
    {
     "name": "stdout",
     "output_type": "stream",
     "text": [
      "Computing src dataset size...\n",
      "Done!\n",
      "Computing tgt dataset size...\n",
      "Done!\n",
      "1144/1144 [==============================] - 178s 91ms/step - loss: 2314.1606 - disc_loss: 0.2618\n"
     ]
    },
    {
     "data": {
      "text/plain": [
       "<adapt.feature_based._dann.DANN at 0x268d7e51ea0>"
      ]
     },
     "execution_count": 31,
     "metadata": {},
     "output_type": "execute_result"
    }
   ],
   "source": [
    "import tensorflow as tf\n",
    "model = DANN()\n",
    "model.fit(X=tf_regression_dataset(train_iterator_FD001), \n",
    "          Xt=tf_regression_dataset(train_iterator_FD002))"
   ]
  },
  {
   "cell_type": "code",
   "execution_count": null,
   "id": "b10096e2",
   "metadata": {},
   "outputs": [],
   "source": []
  }
 ],
 "metadata": {
  "kernelspec": {
   "display_name": "Python 3 (ipykernel)",
   "language": "python",
   "name": "python3"
  },
  "language_info": {
   "codemirror_mode": {
    "name": "ipython",
    "version": 3
   },
   "file_extension": ".py",
   "mimetype": "text/x-python",
   "name": "python",
   "nbconvert_exporter": "python",
   "pygments_lexer": "ipython3",
   "version": "3.10.8"
  }
 },
 "nbformat": 4,
 "nbformat_minor": 5
}
